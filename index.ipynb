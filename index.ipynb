{
 "cells": [
  {
   "cell_type": "markdown",
   "metadata": {},
   "source": [
    "# Try [`scuff-em`](http://homerreid.github.io/scuff-em-documentation/) in your browser!\n",
    "This uses the services of [mybinder.org](http://mybinder.org) to run a Docker container with `scuff-em` precompiled in the browser, with the interface provided by [Jupyter](http://jupyter.org) notebooks, using the [bash kernel](https://github.com/takluyver/bash_kernel). With this setup, the commands you enter below (run cells using `shift+enter`) are run in a bash shell."
   ]
  },
  {
   "cell_type": "markdown",
   "metadata": {},
   "source": [
    "We have included all the examples of `scuff-em` here. Check what is available:"
   ]
  },
  {
   "cell_type": "code",
   "execution_count": 15,
   "metadata": {
    "collapsed": false
   },
   "outputs": [
    {
     "name": "stdout",
     "output_type": "stream",
     "text": [
      "CorrugatedDisc/       GetTMatrix/          SiO2Spheres/     ThinFilm/\r\n",
      "CubeTorus/            PerforatedThinFilm/  SiliconBeams/    WireAntenna/\r\n",
      "DiffractionPatterns/  PlateWithHole/       SolidSphere/     index.ipynb\r\n",
      "Dockerfile            PlatonicSolids/      SphericalShell/  scuff\r\n"
     ]
    }
   ],
   "source": [
    "ls -p"
   ]
  },
  {
   "cell_type": "markdown",
   "metadata": {},
   "source": [
    "We provide a command `scuff` that can be used to call the various subprograms of scuff: "
   ]
  },
  {
   "cell_type": "code",
   "execution_count": 16,
   "metadata": {
    "collapsed": false
   },
   "outputs": [
    {
     "name": "stdout",
     "output_type": "stream",
     "text": [
      "SCUFF-EM: Free, open-source software for boundary-element analysis\r\n",
      "of problems in computational physics and engineering.\r\n",
      "\r\n",
      "Please specify a valid subcommand. Available subcommands:\r\n",
      "  analyze\r\n",
      "  cas3D\r\n",
      "  caspol\r\n",
      "  ldos\r\n",
      "  neq\r\n",
      "  plotEpsMu\r\n",
      "  rf\r\n",
      "  scatter\r\n",
      "  static\r\n",
      "  test-Ewald\r\n",
      "  test-overlap\r\n",
      "  tmatrix\r\n",
      "  transmission\r\n"
     ]
    }
   ],
   "source": [
    "scuff"
   ]
  },
  {
   "cell_type": "markdown",
   "metadata": {},
   "source": [
    "We now follow the [Mie Scattering](http://homerreid.github.io/scuff-em-documentation/examples/MieScattering/MieScattering/) example from the scuff-em documentation."
   ]
  },
  {
   "cell_type": "code",
   "execution_count": 17,
   "metadata": {
    "collapsed": false
   },
   "outputs": [
    {
     "name": "stdout",
     "output_type": "stream",
     "text": [
      "Args                 Mie.math         SiCSphere.scuffgeo\r\n",
      "GoldSphere.scuffgeo  OmegaValues.dat  Sphere.geo\r\n"
     ]
    }
   ],
   "source": [
    "cd SolidSphere\n",
    "ls"
   ]
  },
  {
   "cell_type": "code",
   "execution_count": 22,
   "metadata": {
    "collapsed": false
   },
   "outputs": [
    {
     "name": "stdout",
     "output_type": "stream",
     "text": [
      "bash: gmsh: command not found\r\n"
     ]
    }
   ],
   "source": [
    "gmsh -2 -clscale 1.0 Sphere.geo"
   ]
  }
 ],
 "metadata": {
  "kernelspec": {
   "display_name": "Bash",
   "language": "bash",
   "name": "bash"
  },
  "language_info": {
   "codemirror_mode": "shell",
   "file_extension": ".sh",
   "mimetype": "text/x-sh",
   "name": "bash"
  },
  "toc": {
   "toc_cell": false,
   "toc_number_sections": true,
   "toc_threshold": 6,
   "toc_window_display": true
  }
 },
 "nbformat": 4,
 "nbformat_minor": 0
}
